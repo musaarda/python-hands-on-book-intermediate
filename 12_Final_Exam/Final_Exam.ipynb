{
 "cells": [
  {
   "cell_type": "markdown",
   "metadata": {},
   "source": [
    "## Final Exam"
   ]
  },
  {
   "cell_type": "markdown",
   "metadata": {},
   "source": [
    "The Final Exam, includes the topics we have covered so far. \n",
    "\n",
    "It is a multiple choice exam with 20 questions. \n",
    "\n",
    "Each question is 5 points, which makes 100 points in total. \n",
    "\n",
    "You should get at least 70 points to be successful. \n",
    "\n",
    "The duration is 120 minutes."
   ]
  },
  {
   "cell_type": "markdown",
   "metadata": {},
   "source": [
    "**Questions:**\n",
    "\n",
    "| Topic | Questions |\n",
    "| --- | --- |\n",
    "| Exception Handling  | 3 |\n",
    "| Modules & Packages | 3 |\n",
    "| Format Operations | 2 |\n",
    "| File Operations | 3 |\n",
    "| OOP | 7 |\n",
    "| Tkinter | 2 |\n",
    "| **Total** | **20** |"
   ]
  },
  {
   "cell_type": "markdown",
   "metadata": {},
   "source": [
    "---"
   ]
  },
  {
   "cell_type": "markdown",
   "metadata": {},
   "source": [
    "**Q 1:**\n",
    "\n",
    "The \"total_likes\" function below is going to sum up all the likes.\n",
    "\n",
    "The likes are in a list of dictionaries called \"posts\".\n",
    "\n",
    "Each post is a dictionary.\n",
    "\n",
    "But there is a problem in the \"total_likes\" function.\n",
    "\n",
    "And you are expected to fix this problem by using try-except-else structure.\n",
    "\n",
    "Which one below is the correct definition of this function?\n",
    "\n",
    "(You don't want the function to throw any exceptions.)\n",
    "\n",
    "<pre>\n",
    "def total_likes():\n",
    "    posts = [{'Image': 4, 'Like': 20, 'Comment': 12},\n",
    "             {'Like': 15, 'Comment': 8, 'Share': 10},\n",
    "             {'Image': 7, 'Comment': 16, 'Share': 37},\n",
    "             {'Image': 6, 'Like': 10, 'Comment': 9}]\n",
    "\n",
    "    total = 0\n",
    "\n",
    "    for post in posts:\n",
    "        total = total + post['Like']\n",
    "\n",
    "    return total\n",
    "\n",
    "sum_of_all_likes = total_likes()\n",
    "print(sum_of_all_likes)\n",
    "</pre>"
   ]
  },
  {
   "cell_type": "raw",
   "metadata": {},
   "source": [
    "# A\n",
    "\n",
    "def total_likes():\n",
    "    posts = [{'Image': 4, 'Like': 20, 'Comment': 12},\n",
    "             {'Like': 15, 'Comment': 8, 'Share': 10},\n",
    "             {'Image': 7, 'Comment': 16, 'Share': 37},\n",
    "             {'Image': 6, 'Like': 10, 'Comment': 9}]\n",
    "\n",
    "    total = 0\n",
    "    \n",
    "    try:\n",
    "        for post in posts:\n",
    "            total = total + post['Like']\n",
    "    except:\n",
    "        raise Exception('Error in summation.')\n",
    "    \n",
    "    return total\n",
    "\n",
    "sum_of_all_likes = total_likes()\n",
    "print(sum_of_all_likes)"
   ]
  },
  {
   "cell_type": "raw",
   "metadata": {},
   "source": [
    "# B\n",
    "\n",
    "def total_likes():\n",
    "    posts = [{'Image': 4, 'Like': 20, 'Comment': 12},\n",
    "             {'Like': 15, 'Comment': 8, 'Share': 10},\n",
    "             {'Image': 7, 'Comment': 16, 'Share': 37},\n",
    "             {'Image': 6, 'Like': 10, 'Comment': 9}]\n",
    "\n",
    "    total = 0\n",
    "\n",
    "    try:\n",
    "        for post in posts:\n",
    "            total = total + post['Like']\n",
    "    except:\n",
    "        pass\n",
    "\n",
    "    return total\n",
    "\n",
    "sum_of_all_likes = total_likes()\n",
    "print(sum_of_all_likes)"
   ]
  },
  {
   "cell_type": "raw",
   "metadata": {},
   "source": [
    "# C\n",
    "\n",
    "def total_likes():\n",
    "    posts = [{'Image': 4, 'Like': 20, 'Comment': 12},\n",
    "             {'Like': 15, 'Comment': 8, 'Share': 10},\n",
    "             {'Image': 7, 'Comment': 16, 'Share': 37},\n",
    "             {'Image': 6, 'Like': 10, 'Comment': 9}]\n",
    "\n",
    "    total = 0\n",
    "\n",
    "    for post in posts:\n",
    "        try:\n",
    "            post_like = post['Like']\n",
    "        except:\n",
    "            continue\n",
    "        else:\n",
    "            total = total + post_like\n",
    "\n",
    "    return total\n",
    "\n",
    "sum_of_all_likes = total_likes()\n",
    "print(sum_of_all_likes)"
   ]
  },
  {
   "cell_type": "raw",
   "metadata": {},
   "source": [
    "# D\n",
    "\n",
    "def total_likes():\n",
    "    posts = [{'Image': 4, 'Like': 20, 'Comment': 12},\n",
    "             {'Like': 15, 'Comment': 8, 'Share': 10},\n",
    "             {'Image': 7, 'Comment': 16, 'Share': 37},\n",
    "             {'Image': 6, 'Like': 10, 'Comment': 9}]\n",
    "\n",
    "    total = 0\n",
    "\n",
    "    for post in posts:\n",
    "        try:\n",
    "            post_like = post['Like']\n",
    "        except:\n",
    "            break\n",
    "        else:\n",
    "            total = total + post_like\n",
    "\n",
    "    return total\n",
    "\n",
    "sum_of_all_likes = total_likes()\n",
    "print(sum_of_all_likes)"
   ]
  },
  {
   "cell_type": "markdown",
   "metadata": {},
   "source": [
    "---"
   ]
  },
  {
   "cell_type": "markdown",
   "metadata": {},
   "source": [
    "**Q 2:**\n",
    "\n",
    "You want to define a function that takes a list as parameter.\n",
    "\n",
    "The function will concatenate all the letters in the list and it will create a single word.\n",
    "\n",
    "If the list item is not a letter (alphabetical) it will not concatenate it.\n",
    "\n",
    "But, for that item it will print as follows:\n",
    "* \"item 'x' is not a letter\"\n",
    "\n",
    "Which one below is the correct definition of this function?\n",
    "\n",
    "(You don't want the function to throw any exceptions.)\n",
    "\n",
    "<pre>\n",
    "Example Function Call:\n",
    "secret_word_in_list(['p', 1, 'a', '!', 'y', 'b', 3, '-', '*', 'on'])\n",
    "\n",
    "Expected Output:\n",
    "item 1 is not a letter\n",
    "item ! is not a letter\n",
    "item 3 is not a letter\n",
    "item - is not a letter\n",
    "item * is not a letter\n",
    "paybon\n",
    "</pre>"
   ]
  },
  {
   "cell_type": "raw",
   "metadata": {},
   "source": [
    "# A-\n",
    "\n",
    "def secret_word_in_list(a_list):\n",
    "    word = \"\"\n",
    "    for i in a_list:\n",
    "        try:\n",
    "            assert int(i)\n",
    "        except:\n",
    "            print(\"item {0} is not a letter\".format(i))\n",
    "            pass\n",
    "        else:\n",
    "            word += i\n",
    "    return word"
   ]
  },
  {
   "cell_type": "raw",
   "metadata": {},
   "source": [
    "# B-\n",
    "\n",
    "def secret_word_in_list(a_list):\n",
    "    word = \"\"\n",
    "    for i in a_list:\n",
    "        try:\n",
    "            assert i.isalpha()\n",
    "        except:\n",
    "            print(\"item {0} is not a letter\".format(i))\n",
    "            pass\n",
    "        else:\n",
    "            word += i\n",
    "    return word"
   ]
  },
  {
   "cell_type": "raw",
   "metadata": {},
   "source": [
    "# C-\n",
    "\n",
    "def secret_word_in_list(a_list):\n",
    "    word = \"\"\n",
    "    for i in a_list:\n",
    "        try:\n",
    "            assert i.isalpha()\n",
    "        else:\n",
    "            word += i\n",
    "    return word"
   ]
  },
  {
   "cell_type": "raw",
   "metadata": {},
   "source": [
    "# D-\n",
    "\n",
    "def secret_word_in_list(a_list):\n",
    "    word = \"\"\n",
    "    for i in a_list:\n",
    "        try:\n",
    "            assert i.isalpha()\n",
    "        except:\n",
    "            raise \"item {0} is not a letter\".format(i)\n",
    "        else:\n",
    "            word += i\n",
    "    return word"
   ]
  },
  {
   "cell_type": "markdown",
   "metadata": {},
   "source": [
    "---"
   ]
  },
  {
   "cell_type": "markdown",
   "metadata": {},
   "source": [
    "**Q 3:**\n",
    "\n",
    "You want to define a function that reads a file.\n",
    "\n",
    "It will take the file path as the parameter.\n",
    "\n",
    "If the file does not exist, it will not raise an exception.\n",
    "\n",
    "Instead it will catch FileNotFoundError exception and print as follows:\n",
    "\n",
    "\"No such file...\"\n",
    "\n",
    "If the file exists, it will print the file content.\n",
    "\n",
    "In any case (finally) it will close the file.\n",
    "\n",
    "Which one below is the correct definition of this function?"
   ]
  },
  {
   "cell_type": "raw",
   "metadata": {},
   "source": [
    "# A-\n",
    "\n",
    "def read_file(path):\n",
    "    try:\n",
    "        file = open(path)\n",
    "    except FileNotFoundError as err:\n",
    "        raise err\n",
    "    else:\n",
    "        print(file.read())\n",
    "    finally:\n",
    "        file.close()"
   ]
  },
  {
   "cell_type": "raw",
   "metadata": {},
   "source": [
    "# B-\n",
    "\n",
    "def read_file(path):\n",
    "    try:\n",
    "        file = open(path)\n",
    "    except:\n",
    "        file.close()\n",
    "    else:\n",
    "        print(file.read())\n",
    "    finally:\n",
    "        raise FileNotFoundError"
   ]
  },
  {
   "cell_type": "raw",
   "metadata": {},
   "source": [
    "# C-\n",
    "\n",
    "def read_file(path):\n",
    "    try:\n",
    "        file = open(path)\n",
    "    except FileNotFoundError:\n",
    "        raise\n",
    "    else:\n",
    "        print(file.read())\n",
    "    finally:\n",
    "        try:\n",
    "            file.close()\n",
    "        except:\n",
    "            pass"
   ]
  },
  {
   "cell_type": "raw",
   "metadata": {},
   "source": [
    "# D-\n",
    "\n",
    "def read_file(path):\n",
    "    try:\n",
    "        file = open(path)\n",
    "    except FileNotFoundError:\n",
    "        print(\"No such file...\")\n",
    "    else:\n",
    "        print(file.read())\n",
    "    finally:\n",
    "        try:\n",
    "            file.close()\n",
    "        except:\n",
    "            pass"
   ]
  },
  {
   "cell_type": "markdown",
   "metadata": {},
   "source": [
    "---"
   ]
  },
  {
   "cell_type": "markdown",
   "metadata": {},
   "source": [
    "**Q 4:**\n",
    "\n",
    "Which one below will give you the current folder that Python runs in?"
   ]
  },
  {
   "cell_type": "raw",
   "metadata": {},
   "source": [
    "A-\n",
    "\n",
    "import os\n",
    "project_path = os.getcwd()"
   ]
  },
  {
   "cell_type": "raw",
   "metadata": {},
   "source": [
    "B-\n",
    "\n",
    "import sys\n",
    "project_path = sys.path"
   ]
  },
  {
   "cell_type": "raw",
   "metadata": {},
   "source": [
    "C-\n",
    "\n",
    "import os\n",
    "project_path = os.environ"
   ]
  },
  {
   "cell_type": "raw",
   "metadata": {},
   "source": [
    "D-\n",
    "\n",
    "import sys\n",
    "project_path = sys.gettrace()"
   ]
  },
  {
   "cell_type": "markdown",
   "metadata": {},
   "source": [
    "---"
   ]
  },
  {
   "cell_type": "markdown",
   "metadata": {},
   "source": [
    "**Q 5:**\n",
    "\n",
    "Let's say you want to import the Path class from pathlib module.\n",
    "\n",
    "Which one below is not appropriate for this task?"
   ]
  },
  {
   "cell_type": "raw",
   "metadata": {},
   "source": [
    "A-\n",
    "\n",
    "import pathlib\n",
    "path = pathlib.Path('.')"
   ]
  },
  {
   "cell_type": "raw",
   "metadata": {},
   "source": [
    "B-\n",
    "\n",
    "import pathlib as Path\n",
    "path = Path('.')"
   ]
  },
  {
   "cell_type": "raw",
   "metadata": {},
   "source": [
    "C-\n",
    "\n",
    "from pathlib import Path\n",
    "path = Path('.')"
   ]
  },
  {
   "cell_type": "raw",
   "metadata": {},
   "source": [
    "D-\n",
    "\n",
    "from pathlib import *\n",
    "path = Path('.')"
   ]
  },
  {
   "cell_type": "markdown",
   "metadata": {},
   "source": [
    "---"
   ]
  },
  {
   "cell_type": "markdown",
   "metadata": {},
   "source": [
    "**Q 6:**\n",
    "\n",
    "Which one below is correct about Python modules and packages?"
   ]
  },
  {
   "cell_type": "raw",
   "metadata": {},
   "source": [
    "A- In Python, a package is an ordinary Python file ending with '.pck' extension."
   ]
  },
  {
   "cell_type": "raw",
   "metadata": {},
   "source": [
    "B- We use 'include' keyword to import Python packages."
   ]
  },
  {
   "cell_type": "raw",
   "metadata": {},
   "source": [
    "C- In Python, packages are containers that hold modules."
   ]
  },
  {
   "cell_type": "raw",
   "metadata": {},
   "source": [
    "D- In Python, a package is just an ordinary folder. To create a package it is enough to create a folder."
   ]
  },
  {
   "cell_type": "markdown",
   "metadata": {},
   "source": [
    "---"
   ]
  },
  {
   "cell_type": "markdown",
   "metadata": {},
   "source": [
    "**Q 7:**\n",
    "\n",
    "We have a dictionary as below:\n",
    "\n",
    "<pre>\n",
    "capitals = {\n",
    "    'UK': 'London',\n",
    "    'Germany': 'Berlin',\n",
    "    'Canada': 'Ottawa',\n",
    "    'US': 'Washington'\n",
    "}\n",
    "</pre>\n",
    "\n",
    "Which one below can print the following text by using the capitals dictionary?\n",
    "\n",
    "<pre>\n",
    "\"Capital of Germany is Berlin.\"\n",
    "</pre>"
   ]
  },
  {
   "cell_type": "raw",
   "metadata": {},
   "source": [
    "# A-\n",
    "\n",
    "country = 'Germany'\n",
    "s = \"Capital of {0} is {1}.\".format(country, capitals[country])\n",
    "print(s)"
   ]
  },
  {
   "cell_type": "raw",
   "metadata": {},
   "source": [
    "# B-\n",
    "\n",
    "country = 'Germany'\n",
    "s = \"Capital of {1} is {0}.\".format(country, capitals[country])\n",
    "print(s)"
   ]
  },
  {
   "cell_type": "raw",
   "metadata": {},
   "source": [
    "# C-\n",
    "\n",
    "country = 'Germany'\n",
    "s = \"Capital of {} is {}.\".format(capitals[country], country)\n",
    "print(s)"
   ]
  },
  {
   "cell_type": "raw",
   "metadata": {},
   "source": [
    "# D-\n",
    "\n",
    "country = 'Germany'\n",
    "s = \"Capital of {0} is {1}.\".format(capitals[country], country)\n",
    "print(s)"
   ]
  },
  {
   "cell_type": "markdown",
   "metadata": {},
   "source": [
    "---"
   ]
  },
  {
   "cell_type": "markdown",
   "metadata": {},
   "source": [
    "**Q 8:**\n",
    "\n",
    "We have a dictionary as below:\n",
    "\n",
    "<pre>\n",
    "capitals = {\n",
    "    'UK': 'London',\n",
    "    'Germany': 'Berlin',\n",
    "    'Canada': 'Ottawa',\n",
    "    'US': 'Washington'\n",
    "}\n",
    "</pre>\n",
    "\n",
    "Which one below can print the following text for all the items in the capitals dictionary?\n",
    "\n",
    "<pre>\n",
    "Capital of [Country] is [City].\n",
    "\n",
    "Expected Output: \n",
    "Capital of UK is London.\n",
    "Capital of Germany is Berlin.\n",
    "Capital of Canada is Ottawa.\n",
    "Capital of US is Washington.\n",
    "</pre>"
   ]
  },
  {
   "cell_type": "raw",
   "metadata": {},
   "source": [
    "# A- \n",
    "\n",
    "[print(f\"Capital of {co} is {ci}.\") for co, ci in capitals.values()]"
   ]
  },
  {
   "cell_type": "raw",
   "metadata": {},
   "source": [
    "# B- \n",
    "\n",
    "[print(f\"Capital of {a} is {b}.\") for b, a in capitals.items()]"
   ]
  },
  {
   "cell_type": "raw",
   "metadata": {},
   "source": [
    "# C-\n",
    "\n",
    "[print(f\"Capital of {s} is {u}.\") for s, u in capitals.keys()]"
   ]
  },
  {
   "cell_type": "raw",
   "metadata": {},
   "source": [
    "# D-\n",
    "\n",
    "[print(f\"Capital of {a} is {b}.\") for a, b in capitals.items()]"
   ]
  },
  {
   "cell_type": "markdown",
   "metadata": {},
   "source": [
    "---"
   ]
  },
  {
   "cell_type": "markdown",
   "metadata": {},
   "source": [
    "**Q 9:**\n",
    "\n",
    "We want to get the names of all the folders and files in the current directory.\n",
    "\n",
    "Which one below cannot give this?"
   ]
  },
  {
   "cell_type": "raw",
   "metadata": {},
   "source": [
    "# A-\n",
    "\n",
    "import os\n",
    "from pathlib import Path\n",
    "\n",
    "for content in os.listdir():\n",
    "    print(content)"
   ]
  },
  {
   "cell_type": "raw",
   "metadata": {},
   "source": [
    "# B-\n",
    "\n",
    "import os\n",
    "\n",
    "for content in os.scandir('.'):\n",
    "    print(content.name)"
   ]
  },
  {
   "cell_type": "raw",
   "metadata": {},
   "source": [
    "# C-\n",
    "\n",
    "import os\n",
    "from pathlib import Path\n",
    "\n",
    "for content in Path('.'):\n",
    "    print(content.name)"
   ]
  },
  {
   "cell_type": "raw",
   "metadata": {},
   "source": [
    "# D-\n",
    "\n",
    "import os\n",
    "from pathlib import Path\n",
    "\n",
    "for content in Path().iterdir():\n",
    "    print(content.name)"
   ]
  },
  {
   "cell_type": "markdown",
   "metadata": {},
   "source": [
    "---"
   ]
  },
  {
   "cell_type": "markdown",
   "metadata": {},
   "source": [
    "**Q 10:**\n",
    "\n",
    "We want to create the folder tree below in the current folder.\n",
    "\n",
    "<pre>\n",
    "* K1\n",
    "    * K1_1\n",
    "    * K1_2\n",
    "* K2\n",
    "* K3\n",
    "    * K3_1\n",
    "</pre>\n",
    "\n",
    "Which one below can achieve this?"
   ]
  },
  {
   "cell_type": "raw",
   "metadata": {},
   "source": [
    "# A-\n",
    "\n",
    "import os\n",
    "\n",
    "os.mkdirs('K1/K1_1')\n",
    "os.mkdirs('K1/K1_2')\n",
    "os.mkdirs('K2')\n",
    "os.mkdirs('K3/K3_1')"
   ]
  },
  {
   "cell_type": "raw",
   "metadata": {},
   "source": [
    "# B-\n",
    "\n",
    "import os\n",
    "\n",
    "os.makedirs('K1/K1_1')\n",
    "os.makedirs('K1/K1_2')\n",
    "os.makedirs('K2')\n",
    "os.makedirs('K3/K3_1')"
   ]
  },
  {
   "cell_type": "raw",
   "metadata": {},
   "source": [
    "# C-\n",
    "\n",
    "import os\n",
    "\n",
    "os.makedirs('K1/K1_1')\n",
    "os.makedirs('K1/K1_2')\n",
    "os.makedir('K2')\n",
    "os.makedirs('K3/K3_1')"
   ]
  },
  {
   "cell_type": "raw",
   "metadata": {},
   "source": [
    "# D-\n",
    "\n",
    "import os\n",
    "\n",
    "os.mkdirs('K1/K1_1')\n",
    "os.mkdirs('K1/K1_2')\n",
    "os.mkdir('K2')\n",
    "os.mkdirs('K3/K3_1')"
   ]
  },
  {
   "cell_type": "markdown",
   "metadata": {},
   "source": [
    "---"
   ]
  },
  {
   "cell_type": "markdown",
   "metadata": {},
   "source": [
    "**Q 11:**\n",
    "\n",
    "You will search for files in a directory.\n",
    "\n",
    "You want to use a pattern to find all Python files (with .py extension) that includes letter 'k' in their names.\n",
    "\n",
    "You will only list the files, not the folders.\n",
    "\n",
    "Which one below can achieve this task?"
   ]
  },
  {
   "cell_type": "raw",
   "metadata": {},
   "source": [
    "# A-\n",
    "\n",
    "import os\n",
    "import fnmatch\n",
    "\n",
    "path = r'<folder path>'\n",
    "pattern = 'k*.py'\n",
    "\n",
    "[print(file.name)\n",
    " for file in os.scandir(path)\n",
    " if file.is_file() and fnmatch.fnmatch(file.name, pattern)]"
   ]
  },
  {
   "cell_type": "raw",
   "metadata": {},
   "source": [
    "# B-\n",
    "\n",
    "import os\n",
    "import fnmatch\n",
    "\n",
    "path = r'<folder path>'\n",
    "pattern = '*k.py'\n",
    "\n",
    "[print(file.name)\n",
    " for file in os.scandir(path)\n",
    " if fnmatch.fnmatch(file.name, pattern)]"
   ]
  },
  {
   "cell_type": "raw",
   "metadata": {},
   "source": [
    "# C-\n",
    "\n",
    "import os\n",
    "import fnmatch\n",
    "\n",
    "path = r'<folder path>'\n",
    "pattern = '*k*.py'\n",
    "\n",
    "[print(file.name)\n",
    " for file in os.scandir(path)\n",
    " if not file.is_file() and fnmatch.fnmatch(file.name, pattern)]"
   ]
  },
  {
   "cell_type": "raw",
   "metadata": {},
   "source": [
    "# D-\n",
    "\n",
    "import os\n",
    "import fnmatch\n",
    "\n",
    "path = r'<folder path>'\n",
    "pattern = '*k*.py'\n",
    "\n",
    "[print(file.name)\n",
    " for file in os.scandir(path)\n",
    " if file.is_file() and fnmatch.fnmatch(file.name, pattern)]"
   ]
  },
  {
   "cell_type": "markdown",
   "metadata": {},
   "source": [
    "---"
   ]
  },
  {
   "cell_type": "markdown",
   "metadata": {},
   "source": [
    "**Q 12:**\n",
    "\n",
    "You want to define a class named SuperHero.\n",
    "\n",
    "SuperHero has 3 attributes:\n",
    "* name (str)\n",
    "* real_name (str)\n",
    "* age (int)\n",
    "\n",
    "You will create two super heroes: batman and superman.\n",
    "\n",
    "Then you will print the real names of these heroes.\n",
    "\n",
    "Here are their data:\n",
    "* name: Batman, real_name: Bruce Wayne, age: 30\n",
    "* name: Superman, real_name: Clark Kent, age: 300\n",
    "\n",
    "Which one below is the correct way of doing these?\n",
    "\n",
    "<pre>\n",
    "Expected Output:\n",
    "Bruce Wayne\n",
    "Clark Kent\n",
    "</pre>"
   ]
  },
  {
   "cell_type": "raw",
   "metadata": {},
   "source": [
    "# A-\n",
    "\n",
    "class SuperHero:\n",
    "    def __init__(self, age, real_name, name):\n",
    "        self.name = name\n",
    "        self.real_name = real_name\n",
    "        self.age = age\n",
    "    \n",
    "batman = SuperHero(30, 'Bruce Wayne', 'Batman')\n",
    "superman = SuperHero(300, 'Clark Kent', 'Superman')\n",
    "\n",
    "print(batman.real_name)\n",
    "print(superman.real_name)"
   ]
  },
  {
   "cell_type": "raw",
   "metadata": {},
   "source": [
    "# B-\n",
    "\n",
    "class SuperHero:\n",
    "    def __init__(self, name, real_name, age):\n",
    "        self.name = name\n",
    "        self.real_name = real_name\n",
    "        self.age = age\n",
    "    \n",
    "batman = SuperHero('Bruce Wayne', 'Batman', 30)\n",
    "superman = SuperHero('Clark Kent', 'Superman', 300)\n",
    "\n",
    "print(batman.real_name)\n",
    "print(superman.real_name)"
   ]
  },
  {
   "cell_type": "raw",
   "metadata": {},
   "source": [
    "# C-\n",
    "\n",
    "class SuperHero():\n",
    "    self.name = name\n",
    "    self.real_name = real_name\n",
    "    self.age = age\n",
    "    \n",
    "batman = SuperHero('Bruce Wayne', 'Batman', 30)\n",
    "superman = SuperHero('Clark Kent', 'Superman', 300)\n",
    "\n",
    "print(batman.real_name)\n",
    "print(superman.real_name)"
   ]
  },
  {
   "cell_type": "raw",
   "metadata": {},
   "source": [
    "# D-\n",
    "\n",
    "class SuperHero(name, real_name, age):\n",
    "    def __init__(self):\n",
    "        self.name = name\n",
    "        self.real_name = real_name\n",
    "        self.age = age\n",
    "    \n",
    "batman = SuperHero('Bruce Wayne', 'Batman', 30)\n",
    "superman = SuperHero('Clark Kent', 'Superman', 300)\n",
    "\n",
    "print(batman.real_name)\n",
    "print(superman.real_name)"
   ]
  },
  {
   "cell_type": "markdown",
   "metadata": {},
   "source": [
    "---"
   ]
  },
  {
   "cell_type": "markdown",
   "metadata": {},
   "source": [
    "**Q 13:**\n",
    "\n",
    "You have the Vehicle class as below:\n",
    "\n",
    "<pre>\n",
    "class Vehicle:\n",
    "    def __init__(self, brand, km, age):\n",
    "        self.brand = brand\n",
    "        self.km = km\n",
    "        self.age = age\n",
    "        \n",
    "    # the age of vehicle increases by 1\n",
    "    def set_age(self):\n",
    "        self.age = self.age + 1\n",
    "        \n",
    "    def go(self, km):\n",
    "        self.km += km\n",
    "</pre>\n",
    "\n",
    "You will define a child class which inherits from the Vehicle class.\n",
    "\n",
    "Its name will be Car.\n",
    "\n",
    "Car has an extra attribute as 'model'.\n",
    "\n",
    "And the age of Car increases by 10 instead of 1. (set_age)\n",
    "\n",
    "Which one below is the correct definition of the Car class?"
   ]
  },
  {
   "cell_type": "raw",
   "metadata": {},
   "source": [
    "A-\n",
    "\n",
    "class Car(Vehicle):\n",
    "    def __init__(self, brand, km, age, model):\n",
    "        super().__init__()\n",
    "        self.model = model\n",
    "        \n",
    "    def set_age(self):\n",
    "        self.age += 10"
   ]
  },
  {
   "cell_type": "raw",
   "metadata": {},
   "source": [
    "B-\n",
    "\n",
    "class Car(Vehicle):\n",
    "    def __init__(self, brand, km, age, model):\n",
    "        super().__init__(brand, km, age)\n",
    "        self.model = model\n",
    "        \n",
    "    def set_age(self):\n",
    "        self.age += 10"
   ]
  },
  {
   "cell_type": "raw",
   "metadata": {},
   "source": [
    "C-\n",
    "\n",
    "class Car(Vehicle):\n",
    "    def __init__(self, brand, km, age, model):\n",
    "        super().__init__(brand, km, age, model)\n",
    "        \n",
    "    def set_age(self):\n",
    "        self.age += 10"
   ]
  },
  {
   "cell_type": "raw",
   "metadata": {},
   "source": [
    "D-\n",
    "\n",
    "class Car(Vehicle):\n",
    "    def __init__(self, brand, km, age, model):\n",
    "        super().__init__(brand, km, age)\n",
    "        self.model = model\n",
    "        self.age += 10"
   ]
  },
  {
   "cell_type": "markdown",
   "metadata": {},
   "source": [
    "---"
   ]
  },
  {
   "cell_type": "markdown",
   "metadata": {},
   "source": [
    "**Q 14:**\n",
    "\n",
    "You want to define a class named Circle.\n",
    "\n",
    "It has an attribute as r (radius).\n",
    "\n",
    "And it has two methods, to return the area and the perimeter of the circle.\n",
    "\n",
    "Which one below is the correct definition of the Circle class?\n",
    "\n",
    "<pre>\n",
    "Example:\n",
    "circle = Circle(8)\n",
    "print(circle.area())\n",
    "print(circle.perimeter())\n",
    "\n",
    "Expected Output:\n",
    "201.06192982974676\n",
    "50.26548245743669\n",
    "</pre>"
   ]
  },
  {
   "cell_type": "raw",
   "metadata": {},
   "source": [
    "# A-\n",
    "\n",
    "from math import pi\n",
    "\n",
    "class Circle:\n",
    "    def __init__(radius):\n",
    "        self.r = radius\n",
    "        \n",
    "    def area(self):\n",
    "        return pi * self.r**2\n",
    "    \n",
    "    def perimeter(self):\n",
    "        return 2 * pi * self.r"
   ]
  },
  {
   "cell_type": "raw",
   "metadata": {},
   "source": [
    "# B-\n",
    "\n",
    "from math import pi\n",
    "\n",
    "class Circle(object):\n",
    "    def __init__(self, r):\n",
    "        self.r = r\n",
    "        \n",
    "    def area(self):\n",
    "        return pi * r**2\n",
    "    \n",
    "    def perimeter(self):\n",
    "        return 2 * pi * r"
   ]
  },
  {
   "cell_type": "raw",
   "metadata": {},
   "source": [
    "# C-\n",
    "\n",
    "from math import pi\n",
    "\n",
    "class Circle(object):\n",
    "    def __init__(self, radius):\n",
    "        self.r = radius\n",
    "        \n",
    "    def area(self):\n",
    "        return pi * self.r**2\n",
    "    \n",
    "    def perimeter(self):\n",
    "        return 2 * pi * self.r"
   ]
  },
  {
   "cell_type": "raw",
   "metadata": {},
   "source": [
    "# D-\n",
    "\n",
    "from math import pi\n",
    "\n",
    "class Circle:\n",
    "    def __init__(self, r):\n",
    "        self.r = r\n",
    "        \n",
    "    def area(self):\n",
    "        area = pi * self.r**2\n",
    "    \n",
    "    def perimeter(self):\n",
    "        perimeter = 2 * pi * self.r"
   ]
  },
  {
   "cell_type": "markdown",
   "metadata": {},
   "source": [
    "---"
   ]
  },
  {
   "cell_type": "markdown",
   "metadata": {},
   "source": [
    "**Q 15:**\n",
    "\n",
    "You want to define a class named Printer.\n",
    "\n",
    "It has two attributes: 'printer_name' and 'model'.\n",
    "\n",
    "We want to call the print() method on Printer class as below:\n",
    "\n",
    "<pre>\n",
    "Call the class:\n",
    "printer = Printer('Laser', 'Xerox')\n",
    "print(printer)\n",
    "\n",
    "Expected Output:\n",
    "Laser says -> ...zzz...printing...zzz...\n",
    "</pre>\n",
    "\n",
    "Which one below is the correct definition of the Printer class?"
   ]
  },
  {
   "cell_type": "raw",
   "metadata": {},
   "source": [
    "A-\n",
    "\n",
    "class Printer(object):\n",
    "    def __init__(self, pname, pmodel):\n",
    "        self.printer_name = pname\n",
    "        self.model = pmodel\n",
    "        \n",
    "    def __print__(self):\n",
    "        return f'{self.printer_name} says -> ...zzz...printing...zzz...'"
   ]
  },
  {
   "cell_type": "raw",
   "metadata": {},
   "source": [
    "B-\n",
    "\n",
    "class Printer(object):\n",
    "    def __init__(self, pname, pmodel):\n",
    "        self.printer_name = pname\n",
    "        self.model = pmodel\n",
    "        \n",
    "    def __add__(self):\n",
    "        return f'{self.printer_name} says -> ...zzz...printing...zzz...'"
   ]
  },
  {
   "cell_type": "raw",
   "metadata": {},
   "source": [
    "# C-\n",
    "\n",
    "class Printer(object):\n",
    "    def __init__(self, pname, pmodel):\n",
    "        self.printer_name = pname\n",
    "        self.model = pmodel\n",
    "        \n",
    "    def __str__(self):\n",
    "        return '{1} says -> ...zzz...printing...zzz...'.format(self.printer_name)"
   ]
  },
  {
   "cell_type": "raw",
   "metadata": {},
   "source": [
    "# D-\n",
    "\n",
    "class Printer(object):\n",
    "    def __init__(self, pname, pmodel):\n",
    "        self.printer_name = pname\n",
    "        self.model = pmodel\n",
    "        \n",
    "    def __str__(self):\n",
    "        return f'{self.printer_name} says -> ...zzz...printing...zzz...'"
   ]
  },
  {
   "cell_type": "markdown",
   "metadata": {},
   "source": [
    "---"
   ]
  },
  {
   "cell_type": "markdown",
   "metadata": {},
   "source": [
    "**Q 16:**\n",
    "\n",
    "What is the result of the print() function below?\n",
    "\n",
    "<pre>\n",
    "class X:\n",
    "    def x(self):\n",
    "        return self.y()\n",
    "\n",
    "    def y(self):\n",
    "        return 'Y'\n",
    "\n",
    "class Y(X):\n",
    "    def y(self):\n",
    "        return 'Z'\n",
    "\n",
    "x = X()\n",
    "y = Y()\n",
    "print(x.x(), y.y())\n",
    "</pre>"
   ]
  },
  {
   "cell_type": "raw",
   "metadata": {},
   "source": [
    "A- Y Z"
   ]
  },
  {
   "cell_type": "raw",
   "metadata": {},
   "source": [
    "B- X Y"
   ]
  },
  {
   "cell_type": "raw",
   "metadata": {},
   "source": [
    "C- X Z"
   ]
  },
  {
   "cell_type": "raw",
   "metadata": {},
   "source": [
    "D- Y X"
   ]
  },
  {
   "cell_type": "markdown",
   "metadata": {},
   "source": [
    "---"
   ]
  },
  {
   "cell_type": "markdown",
   "metadata": {},
   "source": [
    "**Q 17:**\n",
    "    \n",
    "Which one below is not correct about OOP (Object Oriented Programming)?"
   ]
  },
  {
   "cell_type": "raw",
   "metadata": {},
   "source": [
    "A- Class is the blueprint that defines how the object should be created."
   ]
  },
  {
   "cell_type": "raw",
   "metadata": {},
   "source": [
    "B- If we do not want anyone to access the attributes in the class, we define these attributes as private. This behavior is called Encapsulation."
   ]
  },
  {
   "cell_type": "raw",
   "metadata": {},
   "source": [
    "C- When a class inherits from a parent class, it can not modify the attributes and the methods of the parent class."
   ]
  },
  {
   "cell_type": "raw",
   "metadata": {},
   "source": [
    "D- A class can inherit from multiple classes."
   ]
  },
  {
   "cell_type": "markdown",
   "metadata": {},
   "source": [
    "---"
   ]
  },
  {
   "cell_type": "markdown",
   "metadata": {},
   "source": [
    "**Q 18:**\n",
    "\n",
    "We have the class definitions and X.mro() call as follows:\n",
    "\n",
    "<pre>\n",
    "class A:\n",
    "    pass\n",
    "\n",
    "class B:\n",
    "    pass\n",
    "\n",
    "class C:\n",
    "    pass\n",
    "\n",
    "class D(A):\n",
    "    pass\n",
    "\n",
    "class X(B, D):\n",
    "    pass\n",
    "    \n",
    "[m.__name__ for m in X.mro()]\n",
    "</pre>\n",
    "\n",
    "Which one below is the correct ordering of MRO (Method Resolution Order) of class X?"
   ]
  },
  {
   "cell_type": "raw",
   "metadata": {},
   "source": [
    "A- ['B', 'D', 'A', 'X', 'object']"
   ]
  },
  {
   "cell_type": "raw",
   "metadata": {},
   "source": [
    "B- ['X', 'B', 'D', 'A', 'object']"
   ]
  },
  {
   "cell_type": "raw",
   "metadata": {},
   "source": [
    "C- ['X', 'A', 'B', 'D', 'object']"
   ]
  },
  {
   "cell_type": "raw",
   "metadata": {},
   "source": [
    "D- ['A', 'B', 'D', 'X', 'object']"
   ]
  },
  {
   "cell_type": "markdown",
   "metadata": {},
   "source": [
    "---"
   ]
  },
  {
   "cell_type": "markdown",
   "metadata": {},
   "source": [
    "**Q 19:**\n",
    "\n",
    "You want to create a GUI (Graphical User Interface) application by using tkinter package of Python.\n",
    "\n",
    "The app will render a Combobox on the screen.\n",
    "\n",
    "Combobox will have 4 values: 'Python', 'JavaScript', 'Java', 'C#'\n",
    "\n",
    "Which one below is the correct definition of this app?"
   ]
  },
  {
   "cell_type": "raw",
   "metadata": {},
   "source": [
    "A-\n",
    "\n",
    "import tkinter as tk\n",
    "from tkinter import ttk\n",
    "\n",
    "sting_var = tk.StringVar()\n",
    "values = ['Python', 'JavaScript', 'Java', 'C#']\n",
    "\n",
    "cmb = ttk.Combobox(textvariable=sting_var, values=values)\n",
    "\n",
    "cmb.pack(padx=20, pady=20)\n",
    "\n",
    "cmb.mainloop()"
   ]
  },
  {
   "cell_type": "raw",
   "metadata": {},
   "source": [
    "B-\n",
    "\n",
    "import tkinter as tk\n",
    "from tkinter import ttk\n",
    "\n",
    "root = tk.Tk()\n",
    "sting_var = tk.StringVar()\n",
    "values = ['Python', 'JavaScript', 'Java', 'C#']\n",
    "\n",
    "cmb = ttk.Combobox(root, textvariable=sting_var, values=values)\n",
    "\n",
    "root.pack(padx=20, pady=20)\n",
    "\n",
    "root.mainloop()"
   ]
  },
  {
   "cell_type": "raw",
   "metadata": {},
   "source": [
    "C-\n",
    "\n",
    "import tkinter as tk\n",
    "from tkinter import ttk\n",
    "\n",
    "root = tk.Tk()\n",
    "sting_var = tk.StringVar()\n",
    "values = ['Python', 'JavaScript', 'Java', 'C#']\n",
    "\n",
    "cmb = ttk.Combobox(root, textvariable=sting_var, values=values)\n",
    "\n",
    "cmb.pack(padx=20, pady=20)\n",
    "\n",
    "root.mainloop()"
   ]
  },
  {
   "cell_type": "raw",
   "metadata": {},
   "source": [
    "D-\n",
    "\n",
    "import tkinter as tk\n",
    "from tkinter import ttk\n",
    "\n",
    "root = tk.Tk()\n",
    "sting_var = tk.StringVar()\n",
    "values = ['Python', 'JavaScript', 'Java', 'C#']\n",
    "\n",
    "ttk.Combobox(cmb, textvariable=sting_var, values=values)\n",
    "\n",
    "cmb.pack(padx=20, pady=20)\n",
    "\n",
    "root.mainloop()"
   ]
  },
  {
   "cell_type": "markdown",
   "metadata": {},
   "source": [
    "---"
   ]
  },
  {
   "cell_type": "markdown",
   "metadata": {},
   "source": [
    "**Q 20:**\n",
    "\n",
    "You want to create a GUI (Graphical User Interface) application by using tkinter package of Python.\n",
    "\n",
    "It will render two buttons on the screen.\n",
    "\n",
    "The texts on the buttons will be: 'Hello' and 'Exit'\n",
    "\n",
    "When the user clicks the 'Hello' button it will print as;\n",
    "* \"Tkinter GUI is fun...\"\n",
    "\n",
    "When the user clicks the 'Exit' button it will close the main window and exit the program\n",
    "\n",
    "Which one below is the correct definition of this app?"
   ]
  },
  {
   "cell_type": "raw",
   "metadata": {},
   "source": [
    "# A-\n",
    "\n",
    "import tkinter as tk   \n",
    "\n",
    "def greet():\n",
    "    print(\"Tkinter GUI is fun...\")\n",
    "    \n",
    "def exit():\n",
    "    btn_exit.destroy()\n",
    "\n",
    "root = tk.Tk()\n",
    "frame = tk.Frame(root)\n",
    "frame.pack()\n",
    "\n",
    "btn_greet = tk.Button(frame, text=\"Hello\", bg='green', fg='white', command=greet)\n",
    "btn_greet.pack(side=tk.LEFT)\n",
    "\n",
    "btn_exit = tk.Button(frame, text=\"Exit\", bg=\"red\", fg='white', command=exit)\n",
    "btn_exit.pack(side=tk.RIGHT)\n",
    "\n",
    "root.mainloop()"
   ]
  },
  {
   "cell_type": "raw",
   "metadata": {},
   "source": [
    "B-\n",
    "\n",
    "import tkinter as tk   \n",
    "\n",
    "def greet():\n",
    "    print(\"Tkinter GUI is fun...\")\n",
    "    \n",
    "def exit():\n",
    "    root.destroy()\n",
    "\n",
    "root = tk.Tk()\n",
    "frame = tk.Frame(root)\n",
    "frame.pack()\n",
    "\n",
    "btn_greet = tk.Button(root, text=\"Hello\", bg='green', fg='white', command=greet)\n",
    "\n",
    "btn_exit = tk.Button(root, text=\"Exit\", bg=\"red\", fg='white', command=exit)\n",
    "\n",
    "root.mainloop()"
   ]
  },
  {
   "cell_type": "raw",
   "metadata": {},
   "source": [
    "C-\n",
    "\n",
    "import tkinter as tk   \n",
    "\n",
    "def greet():\n",
    "    print(\"Tkinter GUI is fun...\")\n",
    "    \n",
    "def exit():\n",
    "    root.destroy()\n",
    "\n",
    "root = tk.Tk()\n",
    "frame = tk.Frame()\n",
    "\n",
    "btn_greet = tk.Button(frame, text=\"Hello\", bg='green', fg='white', command=greet)\n",
    "btn_greet.pack(side=tk.LEFT)\n",
    "\n",
    "btn_exit = tk.Button(frame, text=\"Exit\", bg=\"red\", fg='white', command=exit)\n",
    "btn_exit.pack(side=tk.RIGHT)\n",
    "\n",
    "root.mainloop()"
   ]
  },
  {
   "cell_type": "raw",
   "metadata": {},
   "source": [
    "# D-\n",
    "\n",
    "import tkinter as tk   \n",
    "\n",
    "def greet():\n",
    "    print(\"Tkinter GUI is fun...\")\n",
    "    \n",
    "def exit():\n",
    "    root.destroy()\n",
    "\n",
    "root = tk.Tk()\n",
    "frame = tk.Frame(root)\n",
    "frame.pack()\n",
    "\n",
    "btn_greet = tk.Button(frame, text=\"Hello\", bg='green', fg='white', command=greet)\n",
    "btn_greet.pack(side=tk.LEFT)\n",
    "\n",
    "btn_exit = tk.Button(frame, text=\"Exit\", bg=\"red\", fg='white', command=exit)\n",
    "btn_exit.pack(side=tk.RIGHT)\n",
    "\n",
    "root.mainloop()"
   ]
  },
  {
   "cell_type": "markdown",
   "metadata": {},
   "source": [
    "---"
   ]
  }
 ],
 "metadata": {
  "kernelspec": {
   "display_name": "Python 3",
   "language": "python",
   "name": "python3"
  },
  "language_info": {
   "codemirror_mode": {
    "name": "ipython",
    "version": 3
   },
   "file_extension": ".py",
   "mimetype": "text/x-python",
   "name": "python",
   "nbconvert_exporter": "python",
   "pygments_lexer": "ipython3",
   "version": "3.8.8"
  }
 },
 "nbformat": 4,
 "nbformat_minor": 4
}
